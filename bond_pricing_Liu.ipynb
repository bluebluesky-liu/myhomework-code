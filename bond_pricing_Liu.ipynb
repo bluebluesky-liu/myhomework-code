{
 "cells": [
  {
   "cell_type": "code",
   "execution_count": 1,
   "metadata": {},
   "outputs": [],
   "source": [
    "'''\n",
    "时间：2022年4月4日\n",
    "更新时间：2022年4月5日\n",
    "编写人：刘嘉童\n",
    "\n",
    "由于衍生品课程第四章内容有大量较为重复的计算，故选了一些较为繁琐的计算内容编写了几则小程序\n",
    "以期更够节省计算时间，帮助更好学习课程内容~~~\n",
    "\n",
    "目前可以实现的功能有：\n",
    "1.一般复利债券定价\n",
    "2.连续复利债券定价\n",
    "3.债券收益率\n",
    "4.债券平价收益率\n",
    "5.久期（连续复利）\n",
    "6.券息剥离法（部分，待更新）\n",
    "\n",
    "各部分定义函数均已给出说明\n",
    "（输入已知条件以及打印功能调整至函数内部，调用时无需额外定义与打印）\n",
    "\n",
    "希望可以提供一定帮助，祝使用愉快~\n",
    "'''\n",
    "\n",
    "#使用函数时，请务必在最开始调用需要的库\n",
    "import numpy as np\n",
    "import pandas as pd\n",
    "import math\n",
    "from scipy.optimize import fsolve"
   ]
  },
  {
   "cell_type": "markdown",
   "metadata": {},
   "source": [
    "# 一般复利债券定价"
   ]
  },
  {
   "cell_type": "code",
   "execution_count": 8,
   "metadata": {},
   "outputs": [],
   "source": [
    "def bond_price():\n",
    "    \n",
    "    \"\"\"用于计算一般债券价格参数含义：\n",
    "    par——债券面值；\n",
    "    coup_rate——票面利率；\n",
    "    r——必要报酬率；\n",
    "    T——债券期限；\n",
    "    freq——付息频率；\n",
    "    传入参数数值时可以将浮点数以除法形式传入，例如3%使用3/100形式\n",
    "    返回——打印债券价格\"\"\"\n",
    "    \n",
    "    #用户键入已知条件\n",
    "    par = float(input(\"面值：\"))\n",
    "    coup_rate = float(input(\"票面利率：\"))\n",
    "    r = float(input(\"必要回报率：\"))\n",
    "    T = int(input(\"债券期限：\"))\n",
    "    freq = int(input(\"付息频率（付息次数，大于等于1）：\"))\n",
    "    \n",
    "    #计算环节\n",
    "    per_coupon = par * coup_rate/freq\n",
    "    i = r/ freq\n",
    "    periods = freq * T\n",
    "    \n",
    "    dis_coupon = sum((per_coupon / (1 + i)**t for t in range(1,periods+1)))\n",
    "    \n",
    "    return print(\"\\n债权理论价格为：\\n\",dis_coupon+(par/(1+i)**periods))"
   ]
  },
  {
   "cell_type": "code",
   "execution_count": 9,
   "metadata": {},
   "outputs": [
    {
     "name": "stdout",
     "output_type": "stream",
     "text": [
      "面值：1000\n",
      "票面利率：0.06\n",
      "必要回报率：0.03\n",
      "债券期限：50\n",
      "付息频率（付息次数，大于等于1）：2\n",
      "债权理论价格为：\n",
      " 1774.3705550264153\n"
     ]
    }
   ],
   "source": [
    "#调用例子 \n",
    "bond_price()"
   ]
  },
  {
   "cell_type": "markdown",
   "metadata": {},
   "source": [
    "# 连续复利的债券定价"
   ]
  },
  {
   "cell_type": "code",
   "execution_count": 12,
   "metadata": {},
   "outputs": [],
   "source": [
    "def bond_price_con():\n",
    "    \n",
    "    \"\"\"用于计算提供周期性券息的连续复利的债券价格，参数含义：\n",
    "    cash——现金流；\n",
    "    r——零息利率；\n",
    "    T——期限；\n",
    "    返回——打印债券理论价格\n",
    "    \"\"\"\n",
    "    \n",
    "    #用户键入已知条件\n",
    "    cash = list(map(float,input(\"现金流（用空格隔开）：\").split()))\n",
    "    T =  list(map(float,input(\"期限（用空格隔开）：\").split()))\n",
    "    r =  list(map(float,input(\"零息利率（用空格隔开）：\").split()))\n",
    "    \n",
    "    return print(\"\\n连续复利的债券理论价格：\\n\",sum(cash[i]/math.exp(r[i]*T[i]) for i in range(len(T))))"
   ]
  },
  {
   "cell_type": "code",
   "execution_count": 13,
   "metadata": {},
   "outputs": [
    {
     "name": "stdout",
     "output_type": "stream",
     "text": [
      "现金流（用空格隔开）：3 3 3 103\n",
      "期限（用空格隔开）：0.5 1 1.5 2\n",
      "零息利率（用空格隔开）：0.05 0.058 0.064 0.068\n",
      "\n",
      "连续复利的债券理论价格：\n",
      " 98.3850627729396\n"
     ]
    }
   ],
   "source": [
    "#例子（《期权、期货及其他衍生产品》P69 表4-2数据）\n",
    "# cash = [3,3,3,103]\n",
    "# T = [0.5,1,1.5,2]\n",
    "# r = [0.05,0.058,0.064,0.068]\n",
    "\n",
    "# 98.3850627729396\n",
    "\n",
    "bond_price_con()"
   ]
  },
  {
   "cell_type": "markdown",
   "metadata": {},
   "source": [
    "# 债券收益率"
   ]
  },
  {
   "cell_type": "code",
   "execution_count": 14,
   "metadata": {},
   "outputs": [],
   "source": [
    "def bond_yield():\n",
    "    \n",
    "    \"\"\"用于计算提供周期性券息的连续复利的债券收益率，传入参数含义：\n",
    "    cash——现金流；\n",
    "    T——期限；\n",
    "    P——债券理论价格；\n",
    "    返回——打印债券收益率\n",
    "    \"\"\"\n",
    "    #用户键入已知条件\n",
    "    cash = list(map(float,input(\"现金流（用空格隔开）：\").split()))\n",
    "    T =  list(map(float,input(\"期限（用空格隔开）：\").split()))\n",
    "    P = float(input(\"债券理论价格：\"))\n",
    "    \n",
    "    #计算环节\n",
    "    def f(y):\n",
    "        cashflow=[]\n",
    "        for i in range(len(T)):\n",
    "            a=cash[i]*np.exp(-y*T[i])\n",
    "            cashflow.append(a)\n",
    "        return sum(cashflow)-P#此处返回一个等于零的式子\n",
    "    return print(\"\\n债券收益率：\\n\",fsolve(f,0.1))#f是要求解的函数，0.1是猜测"
   ]
  },
  {
   "cell_type": "code",
   "execution_count": 15,
   "metadata": {},
   "outputs": [
    {
     "name": "stdout",
     "output_type": "stream",
     "text": [
      "现金流（用空格隔开）：3 3 3 103\n",
      "期限（用空格隔开）：0.5 1 1.5 2\n",
      "债券理论价格：98.39\n",
      "\n",
      "债券收益率：\n",
      " [0.06759816]\n"
     ]
    }
   ],
   "source": [
    "#例子（《期权、期货及其他衍生产品》P69 表4-2数据）\n",
    "# cash = [3,3,3,103]\n",
    "# T = [0.5,1,1.5,2]\n",
    "# P =98.39\n",
    "\n",
    "# [0.06759816]\n",
    "\n",
    "bond_yield()"
   ]
  },
  {
   "cell_type": "markdown",
   "metadata": {},
   "source": [
    "# 债券平价收益率"
   ]
  },
  {
   "cell_type": "code",
   "execution_count": 16,
   "metadata": {},
   "outputs": [],
   "source": [
    "def par_yield():\n",
    "    \n",
    "    \"\"\"用于计算提供周期性券息的连续复利的债券平价收益率，传入参数含义：\n",
    "    r——零息利率；\n",
    "    T——期限；\n",
    "    par——债券面值；\n",
    "    返回——打印债券平价收益率\n",
    "    \"\"\"\n",
    "    \n",
    "    #用户键入已知条件\n",
    "    T =  list(map(float,input(\"期限（用空格隔开）：\").split()))\n",
    "    r =  list(map(float,input(\"零息利率（用空格隔开）：\").split()))\n",
    "    par = float(input(\"债券面值：\"))\n",
    "    freq = int(input(\"付息频率（大于等于一）：\"))\n",
    "    \n",
    "    #计算环节\n",
    "    def f(c):\n",
    "        cashflow=[]\n",
    "        for i in range(len(T)):\n",
    "            cash_1=(c/freq)*np.exp(-r[i]*T[i])\n",
    "            cashflow.append(cash_1)\n",
    "        cash_2 = par*np.exp(-r[len(T)-1]*T[len(T)-1])\n",
    "        return sum(cashflow)+cash_2-par#此处返回一个等于零的式子\n",
    "    \n",
    "    return print(\"\\n债券平价收益率：\\n\",fsolve(f,0.1))#f是要求解的函数，0.1是猜测"
   ]
  },
  {
   "cell_type": "code",
   "execution_count": 17,
   "metadata": {},
   "outputs": [
    {
     "name": "stdout",
     "output_type": "stream",
     "text": [
      "期限（用空格隔开）：0.5 1 1.5 2\n",
      "零息利率（用空格隔开）：0.05 0.058 0.064 0.068\n",
      "债券面值：100\n",
      "付息频率（大于等于一）：2\n",
      "\n",
      "债券平价收益率：\n",
      " [6.87287617]\n"
     ]
    }
   ],
   "source": [
    "#例子（《期权、期货及其他衍生产品》P69 表4-2数据）\n",
    "\n",
    "# T = [0.5,1,1.5,2]\n",
    "# r = [0.05,0.058,0.064,0.068]\n",
    "# par =100\n",
    "# freq = 2\n",
    "\n",
    "par_yield()"
   ]
  },
  {
   "cell_type": "markdown",
   "metadata": {},
   "source": [
    "# 久期"
   ]
  },
  {
   "cell_type": "code",
   "execution_count": 18,
   "metadata": {},
   "outputs": [],
   "source": [
    "def duration_cal():\n",
    "    \n",
    "    '''\n",
    "    用于计算提供周期性券息的连续复利的债券久期，传入参数含义：\n",
    "    cash——现金流；\n",
    "    r——连续复利年收益率；\n",
    "    T——期限；\n",
    "    返回——打印债券久期\n",
    "    '''\n",
    "    #用户键入已知条件\n",
    "    cash = list(map(float,input(\"现金流（用空格隔开）：\").split()))\n",
    "    T =  list(map(float,input(\"期限（用空格隔开）：\").split()))\n",
    "    r =  list(map(float,input(\"连续复利年收益率（用空格隔开）：\").split()))\n",
    "    \n",
    "    #计算B（债券价格）\n",
    "    def B(cash, r, T):\n",
    "    \n",
    "        \"\"\"用于计算提供周期性券息的连续复利的债券价格，传入参数含义：\n",
    "        cash——现金流；\n",
    "        r——零息利率；\n",
    "        T——期限；\n",
    "        返回债券理论价格\n",
    "        \"\"\"\n",
    "    \n",
    "        return sum(cash[i]/math.exp(r[i]*T[i]) for i in range(len(T)))\n",
    "    \n",
    "    \n",
    "    B_value = B(cash, r, T)\n",
    "    return print(\"\\n久期：\\n\",sum((T[i]*cash[i])/math.exp(r[i]*T[i]) for i in range(len(T)))/B_value )"
   ]
  },
  {
   "cell_type": "code",
   "execution_count": 19,
   "metadata": {},
   "outputs": [
    {
     "name": "stdout",
     "output_type": "stream",
     "text": [
      "现金流（用空格隔开）：5 5 5 5 5 105\n",
      "期限（用空格隔开）：0.5 1 1.5 2 2.5 3\n",
      "连续复利年收益率（用空格隔开）：0.12 0.12 0.12 0.12 0.12 0.12\n",
      "\n",
      "久期：\n",
      " 2.653010037390808\n"
     ]
    }
   ],
   "source": [
    "#例子（《期权、期货及其他衍生产品》P77 表4-7数据）\n",
    "# cash = [5,5,5,5,5,105]\n",
    "# T = [0.5,1,1.5,2,2.5,3]\n",
    "# r = [0.12,0.12,0.12,0.12,0.12,0.12]\n",
    "\n",
    "duration_cal()"
   ]
  },
  {
   "cell_type": "code",
   "execution_count": null,
   "metadata": {},
   "outputs": [],
   "source": []
  }
 ],
 "metadata": {
  "kernelspec": {
   "display_name": "Python 3",
   "language": "python",
   "name": "python3"
  },
  "language_info": {
   "codemirror_mode": {
    "name": "ipython",
    "version": 3
   },
   "file_extension": ".py",
   "mimetype": "text/x-python",
   "name": "python",
   "nbconvert_exporter": "python",
   "pygments_lexer": "ipython3",
   "version": "3.8.3"
  }
 },
 "nbformat": 4,
 "nbformat_minor": 4
}
